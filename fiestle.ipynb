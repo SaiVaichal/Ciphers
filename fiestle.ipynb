{
  "nbformat": 4,
  "nbformat_minor": 0,
  "metadata": {
    "colab": {
      "provenance": [],
      "authorship_tag": "ABX9TyMLV+fU1q99Dy+dyAjgOJ3o",
      "include_colab_link": true
    },
    "kernelspec": {
      "name": "python3",
      "display_name": "Python 3"
    },
    "language_info": {
      "name": "python"
    }
  },
  "cells": [
    {
      "cell_type": "markdown",
      "metadata": {
        "id": "view-in-github",
        "colab_type": "text"
      },
      "source": [
        "<a href=\"https://colab.research.google.com/github/SaiVaichal/Ciphers/blob/main/fiestle.ipynb\" target=\"_parent\"><img src=\"https://colab.research.google.com/assets/colab-badge.svg\" alt=\"Open In Colab\"/></a>"
      ]
    },
    {
      "cell_type": "code",
      "execution_count": null,
      "metadata": {
        "id": "plB93jqGzfWo"
      },
      "outputs": [],
      "source": [
        "plaintext = input(\"Enter a string: \")\n",
        "binary_text = \"\".join(format(ord(char), '08b') for char in plaintext)\n",
        "print(\"Result (Binary):\", binary_text)\n",
        "\n",
        "half_length = len(binary_text) // 2\n",
        "left_half = binary_text[:half_length]\n",
        "right_half = binary_text[half_length:]\n",
        "\n",
        "key_input = input(\"Enter a key: \")\n",
        "binary_key = \"\".join(format(ord(char), '08b') for char in key_input)\n",
        "\n",
        "temp_result = bin(int(right_half, 2) + int(binary_key, 2))\n",
        "xor_result = bin(int(temp_result[2:], 2) ^ int(left_half, 2))\n",
        "\n",
        "new_right = xor_result[2:]\n",
        "new_left = right_half\n",
        "new_right, new_left = new_left, new_right\n",
        "\n",
        "temp_result_2 = bin(int(new_right, 2) + int(binary_key, 2))\n",
        "xor_result_2 = bin(int(temp_result_2[2:], 2) ^ int(new_left, 2))\n",
        "\n",
        "final_left = new_right\n",
        "final_right = xor_result_2[2:]\n",
        "final_left, final_right = final_right, final_left\n",
        "\n",
        "cipher_binary = final_left + final_right\n",
        "\n",
        "if len(cipher_binary) < len(binary_text):\n",
        "    while len(cipher_binary) < len(binary_text):\n",
        "        cipher_binary = \"0\" + cipher_binary\n",
        "\n",
        "print(\"Cipher Text (Binary):\", cipher_binary)\n",
        "\n",
        "cipher_text = \"\"\n",
        "for i in range(0, len(cipher_binary), 8):\n",
        "    char_binary = cipher_binary[i:i+8]\n",
        "    char_ascii = int(char_binary, 2)\n",
        "    cipher_text += chr(char_ascii)\n",
        "\n",
        "print(\"Cipher Text:\", cipher_text)\n"
      ]
    }
  ]
}