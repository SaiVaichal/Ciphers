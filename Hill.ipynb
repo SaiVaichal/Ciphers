{
  "nbformat": 4,
  "nbformat_minor": 0,
  "metadata": {
    "colab": {
      "provenance": [],
      "authorship_tag": "ABX9TyM+yOVrh0/OuGK+9Mtpr9yB",
      "include_colab_link": true
    },
    "kernelspec": {
      "name": "python3",
      "display_name": "Python 3"
    },
    "language_info": {
      "name": "python"
    }
  },
  "cells": [
    {
      "cell_type": "markdown",
      "metadata": {
        "id": "view-in-github",
        "colab_type": "text"
      },
      "source": [
        "<a href=\"https://colab.research.google.com/github/SaiVaichal/Ciphers/blob/main/Hill.ipynb\" target=\"_parent\"><img src=\"https://colab.research.google.com/assets/colab-badge.svg\" alt=\"Open In Colab\"/></a>"
      ]
    },
    {
      "cell_type": "code",
      "execution_count": 2,
      "metadata": {
        "colab": {
          "base_uri": "https://localhost:8080/"
        },
        "id": "9Xla6MdmxdSp",
        "outputId": "c98d24c9-2cf4-4447-fd31-634fad63ec17"
      },
      "outputs": [
        {
          "output_type": "stream",
          "name": "stdout",
          "text": [
            "Enter text to encrypt: I feel happy\n",
            "Encrypted: QQTJMILAMRAU\n",
            "Decrypted: IFEELHAPPY\n"
          ]
        }
      ],
      "source": [
        "import numpy as np\n",
        "\n",
        "def encrypt_hill(text, key):\n",
        "    size = len(key)\n",
        "    text = text.upper().replace(\" \", \"\")\n",
        "    original_len = len(text)\n",
        "\n",
        "    if len(text) % size != 0:\n",
        "        text += \"X\" * (size - len(text) % size)\n",
        "\n",
        "    text_vector = [ord(char) - ord('A') for char in text]\n",
        "    encrypted_text = \"\"\n",
        "\n",
        "    for i in range(0, len(text_vector), size):\n",
        "        block = text_vector[i:i + size]\n",
        "        result = np.dot(key, block) % 26\n",
        "        encrypted_text += \"\".join(chr(num + ord('A')) for num in result)\n",
        "\n",
        "    return encrypted_text, original_len\n",
        "\n",
        "def decrypt_hill(text, key, original_len):\n",
        "    size = len(key)\n",
        "    key_inv = inverse_mod_matrix(key, 26)\n",
        "    text_vector = [ord(char) - ord('A') for char in text]\n",
        "    decrypted_text = \"\"\n",
        "\n",
        "    for i in range(0, len(text_vector), size):\n",
        "        block = text_vector[i:i + size]\n",
        "        result = np.dot(key_inv, block) % 26\n",
        "        decrypted_text += \"\".join(chr(num + ord('A')) for num in result)\n",
        "\n",
        "    return decrypted_text[:original_len]\n",
        "\n",
        "def inverse_mod_matrix(matrix, mod):\n",
        "    det = int(round(np.linalg.det(matrix)))\n",
        "    det_inv = pow(det, -1, mod)\n",
        "    adj_matrix = np.round(det * np.linalg.inv(matrix)).astype(int) % mod\n",
        "    inv_matrix = (det_inv * adj_matrix) % mod\n",
        "    return inv_matrix\n",
        "\n",
        "text_input = input(\"Enter text to encrypt: \")\n",
        "key_matrix = np.array([[6, 24, 1], [13, 16, 10], [20, 17, 15]])\n",
        "\n",
        "encrypted, original_len = encrypt_hill(text_input, key_matrix)\n",
        "print(\"Encrypted:\", encrypted)\n",
        "\n",
        "decrypted = decrypt_hill(encrypted, key_matrix, original_len)\n",
        "print(\"Decrypted:\", decrypted)\n"
      ]
    }
  ]
}