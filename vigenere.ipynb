{
  "nbformat": 4,
  "nbformat_minor": 0,
  "metadata": {
    "colab": {
      "provenance": [],
      "authorship_tag": "ABX9TyPK/sG2D1rOsU6OZHBwM1X9",
      "include_colab_link": true
    },
    "kernelspec": {
      "name": "python3",
      "display_name": "Python 3"
    },
    "language_info": {
      "name": "python"
    }
  },
  "cells": [
    {
      "cell_type": "markdown",
      "metadata": {
        "id": "view-in-github",
        "colab_type": "text"
      },
      "source": [
        "<a href=\"https://colab.research.google.com/github/SaiVaichal/Ciphers/blob/main/vigenere.ipynb\" target=\"_parent\"><img src=\"https://colab.research.google.com/assets/colab-badge.svg\" alt=\"Open In Colab\"/></a>"
      ]
    },
    {
      "cell_type": "code",
      "execution_count": null,
      "metadata": {
        "id": "_DeQZmBK0Bdw"
      },
      "outputs": [],
      "source": [
        "def encrypt_vigenere(secret_key, text):\n",
        "    text = text.lower().replace(' ', '')\n",
        "    key_length = len(secret_key)\n",
        "    encrypted_text = \"\"\n",
        "\n",
        "    for i in range(len(text)):\n",
        "        char = text[i]\n",
        "        shift = secret_key[i % key_length]\n",
        "        encrypted_text += chr((ord(char) + shift - 97) % 26 + 97)\n",
        "\n",
        "    return encrypted_text\n",
        "\n",
        "if __name__ == \"__main__\":\n",
        "    print(\"Encrypting....\")\n",
        "    secret_key = input(\"Enter a keystream: \")\n",
        "    secret_key = [ord(char) - 97 for char in secret_key]\n",
        "    text = input(\"Enter a message: \")\n",
        "\n",
        "    encrypted_text = encrypt_vigenere(secret_key, text)\n",
        "    print(\"CipherText:\", encrypted_text)\n",
        "\n",
        "    print(\"Decrypting\")\n",
        "    secret_key = [-shift for shift in secret_key]\n",
        "    decrypted_text = encrypt_vigenere(secret_key, encrypted_text)\n",
        "    print(\"Plain text:\", decrypted_text)\n"
      ]
    }
  ]
}