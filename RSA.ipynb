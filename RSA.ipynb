{
  "nbformat": 4,
  "nbformat_minor": 0,
  "metadata": {
    "colab": {
      "provenance": [],
      "authorship_tag": "ABX9TyPuRT+/FHXUY0uYd51AsIZj",
      "include_colab_link": true
    },
    "kernelspec": {
      "name": "python3",
      "display_name": "Python 3"
    },
    "language_info": {
      "name": "python"
    }
  },
  "cells": [
    {
      "cell_type": "markdown",
      "metadata": {
        "id": "view-in-github",
        "colab_type": "text"
      },
      "source": [
        "<a href=\"https://colab.research.google.com/github/SaiVaichal/Ciphers/blob/main/RSA.ipynb\" target=\"_parent\"><img src=\"https://colab.research.google.com/assets/colab-badge.svg\" alt=\"Open In Colab\"/></a>"
      ]
    },
    {
      "cell_type": "code",
      "execution_count": 6,
      "metadata": {
        "colab": {
          "base_uri": "https://localhost:8080/"
        },
        "id": "HFvab9UKLXI8",
        "outputId": "44b3ceb2-1600-47cf-ecbd-ce5338a75f64"
      },
      "outputs": [
        {
          "output_type": "stream",
          "name": "stdout",
          "text": [
            "Public Key: (2447, 3233)\n",
            "Private Key: (2063, 3233)\n",
            "Encrypted Message: [1453, 704, 1567, 1567, 828]\n",
            "Decrypted Message: HELLO\n"
          ]
        }
      ],
      "source": [
        "import random\n",
        "\n",
        "def gcd(a, b):\n",
        "    while b:\n",
        "        a, b = b, a % b\n",
        "    return a\n",
        "\n",
        "def mod_inverse(e, phi):\n",
        "    for d in range(2, phi):\n",
        "        if (e * d) % phi == 1:\n",
        "            return d\n",
        "    return None\n",
        "\n",
        "def generate_keys(p, q):\n",
        "    n = p * q\n",
        "    phi = (p - 1) * (q - 1)\n",
        "\n",
        "    e = random.randint(2, phi - 1)\n",
        "    while gcd(e, phi) != 1:\n",
        "        e = random.randint(2, phi - 1)\n",
        "\n",
        "    d = mod_inverse(e, phi)\n",
        "    if d is None:\n",
        "        raise ValueError(\"Could not find modular inverse for e.\")\n",
        "\n",
        "    return ((e, n), (d, n))\n",
        "\n",
        "def encrypt(message, public_key):\n",
        "    e, n = public_key\n",
        "    encrypted_msg = [pow(ord(char), e, n) for char in message]\n",
        "    return encrypted_msg\n",
        "\n",
        "def decrypt(encrypted_msg, private_key):\n",
        "    d, n = private_key\n",
        "    decrypted_msg = ''.join([chr(pow(char, d, n)) for char in encrypted_msg])\n",
        "    return decrypted_msg\n",
        "\n",
        "if __name__ == \"__main__\":\n",
        "    p = 61  # First prime number\n",
        "    q = 53  # Second prime number\n",
        "\n",
        "    public_key, private_key = generate_keys(p, q)\n",
        "    print(\"Public Key:\", public_key)\n",
        "    print(\"Private Key:\", private_key)\n",
        "\n",
        "    message = \"HELLO\"\n",
        "    encrypted_msg = encrypt(message, public_key)\n",
        "    print(\"Encrypted Message:\", encrypted_msg)\n",
        "\n",
        "    decrypted_msg = decrypt(encrypted_msg, private_key)\n",
        "    print(\"Decrypted Message:\", decrypted_msg)\n"
      ]
    }
  ]
}