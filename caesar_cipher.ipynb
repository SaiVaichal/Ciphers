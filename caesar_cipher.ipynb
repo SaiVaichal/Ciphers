{
  "nbformat": 4,
  "nbformat_minor": 0,
  "metadata": {
    "colab": {
      "provenance": [],
      "authorship_tag": "ABX9TyOvE1nCCqVFZWnezFPbKgLN",
      "include_colab_link": true
    },
    "kernelspec": {
      "name": "python3",
      "display_name": "Python 3"
    },
    "language_info": {
      "name": "python"
    }
  },
  "cells": [
    {
      "cell_type": "markdown",
      "metadata": {
        "id": "view-in-github",
        "colab_type": "text"
      },
      "source": [
        "<a href=\"https://colab.research.google.com/github/SaiVaichal/caesar_cipher/blob/main/caesar_cipher.ipynb\" target=\"_parent\"><img src=\"https://colab.research.google.com/assets/colab-badge.svg\" alt=\"Open In Colab\"/></a>"
      ]
    },
    {
      "cell_type": "code",
      "execution_count": null,
      "metadata": {
        "colab": {
          "base_uri": "https://localhost:8080/"
        },
        "id": "a09VOuCA-R5w",
        "outputId": "037cacbe-a10b-482d-a5f4-ada25b87db80"
      },
      "outputs": [
        {
          "output_type": "stream",
          "name": "stdout",
          "text": [
            "Encrypt\n",
            "Input data: I am practicing\n",
            "Input key (shift): 2\n",
            "Output (Encrypted): K co rtcevkekpi\n"
          ]
        }
      ],
      "source": [
        "def caesar_cipher(text, shift, mode='encrypt'):\n",
        "    result = \"\"\n",
        "    shift = shift % 26\n",
        "\n",
        "    for char in text:\n",
        "        if char.isalpha():\n",
        "            base = ord('A') if char.isupper() else ord('a')\n",
        "            if mode == 'encrypt':\n",
        "                result += chr((ord(char) + shift - base) % 26 + base)\n",
        "            elif mode == 'decrypt':\n",
        "                result += chr((ord(char) - shift - base) % 26 + base)\n",
        "        else:\n",
        "            result += char\n",
        "\n",
        "    return result\n",
        "\n",
        "# Dynamic input for encryption\n",
        "data = input(\"Encrypt\\nInput data: \")\n",
        "key = int(input(\"Input key (shift): \"))\n",
        "encrypted_text = caesar_cipher(data, key, mode='encrypt')\n",
        "print(\"Output (Encrypted):\", encrypted_text)\n",
        "\n",
        "data = input(\"\\nDecrypt\\nInput data: \")\n",
        "key = int(input(\"Input key (shift): \"))\n",
        "decrypted_text = caesar_cipher(data, key, mode='decrypt')\n",
        "print(\"Output (Decrypted):\", decrypted_text)\n",
        "\n"
      ]
    }
  ]
}