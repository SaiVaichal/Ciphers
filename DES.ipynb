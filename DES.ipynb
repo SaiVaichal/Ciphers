{
  "nbformat": 4,
  "nbformat_minor": 0,
  "metadata": {
    "colab": {
      "provenance": [],
      "authorship_tag": "ABX9TyOZ74xwc1uD4oeEZsCFzq8B",
      "include_colab_link": true
    },
    "kernelspec": {
      "name": "python3",
      "display_name": "Python 3"
    },
    "language_info": {
      "name": "python"
    }
  },
  "cells": [
    {
      "cell_type": "markdown",
      "metadata": {
        "id": "view-in-github",
        "colab_type": "text"
      },
      "source": [
        "<a href=\"https://colab.research.google.com/github/SaiVaichal/Ciphers/blob/main/DES.ipynb\" target=\"_parent\"><img src=\"https://colab.research.google.com/assets/colab-badge.svg\" alt=\"Open In Colab\"/></a>"
      ]
    },
    {
      "cell_type": "code",
      "execution_count": 6,
      "metadata": {
        "colab": {
          "base_uri": "https://localhost:8080/"
        },
        "id": "VRtOwwuk7yKM",
        "outputId": "d5c84ebe-293e-4a03-813b-508822669737"
      },
      "outputs": [
        {
          "output_type": "stream",
          "name": "stdout",
          "text": [
            "Enter a string: heyy\n",
            "Key 1 = 1111\n",
            "Key 2 = 0000\n",
            "Key 3 = 0000\n",
            "Key 4 = 0000\n",
            "Key 5 = 1111\n",
            "Key 6 = 0000\n",
            "Key 7 = 1111\n",
            "Key 8 = 0000\n"
          ]
        }
      ],
      "source": [
        "import random\n",
        "\n",
        "s = input(\"Enter a string: \")\n",
        "result = ''.join(format(ord(i), '08b') for i in s)\n",
        "\n",
        "answer = \"\"\n",
        "for i in range(len(result)):\n",
        "    if i % 8 == 0:\n",
        "        answer += result[i]\n",
        "\n",
        "l = int(len(answer) / 2)\n",
        "left = answer[:l] if l > 0 else \"1\"\n",
        "right = answer[l:] if l > 0 else \"0\"\n",
        "\n",
        "lt = [2, 3, 6, 7, 1, 6, 5, 9]\n",
        "keys = []\n",
        "\n",
        "for i in range(8):\n",
        "    newKey = \"\"\n",
        "    newAnswer = \"\"\n",
        "\n",
        "    nl = int(left, 2) if left else 1\n",
        "    nr = int(right, 2) if right else 0\n",
        "\n",
        "    nl = bin(nl << lt[i])[2:].zfill(len(left))  # Preserve length\n",
        "    nr = bin(nr << lt[i])[2:].zfill(len(right))\n",
        "\n",
        "    num = min(2 + lt[i], len(nl), len(nr))\n",
        "    newKey = nr[num:] + nl[num:]\n",
        "\n",
        "    if len(newKey) < 8:\n",
        "        newKey = newKey.ljust(8, random.choice(\"01\"))\n",
        "\n",
        "    rm = set()\n",
        "    while len(rm) < 4:  # Removing fewer bits to retain randomness\n",
        "        r = random.randint(0, len(newKey) - 1)\n",
        "        rm.add(r)\n",
        "\n",
        "    for j in range(len(newKey)):\n",
        "        if j not in rm:\n",
        "            newAnswer += newKey[j]\n",
        "\n",
        "    if not newAnswer:\n",
        "        newAnswer = newKey[:8]\n",
        "\n",
        "    keys.append(newAnswer)\n",
        "\n",
        "for i in range(len(keys)):\n",
        "    print(\"Key\", i + 1, \"=\", keys[i])\n",
        "\n"
      ]
    },
    {
      "cell_type": "markdown",
      "source": [],
      "metadata": {
        "id": "G_X0T-Eo-Wqf"
      }
    }
  ]
}